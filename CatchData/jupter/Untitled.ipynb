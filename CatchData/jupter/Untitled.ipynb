{
 "cells": [
  {
   "cell_type": "code",
   "execution_count": null,
   "metadata": {
    "collapsed": true
   },
   "outputs": [],
   "source": [
    "import urllib.request as urlrequest\n",
    "url_visit = 'https://api.douban.com/v2/movie/26387939'\n",
    "crawl_content = urlrequest.urlopen(url_visit).read()\n",
    "print(crawl_content.decode('unicode-escape'))"
   ]
  }
 ],
 "metadata": {
  "kernelspec": {
   "display_name": "Python 3",
   "language": "python",
   "name": "python3"
  }
 },
 "nbformat": 4,
 "nbformat_minor": 2
}
