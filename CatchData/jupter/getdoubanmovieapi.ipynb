{
 "cells": [
  {
   "cell_type": "code",
   "execution_count": 2,
   "metadata": {},
   "outputs": [],
   "source": [
    "import urllib.request as urlrequest\n",
    "import json\n",
    "#摔跤吧爸爸，移动迷宫，神秘巨星\n",
    "id_list = {26387939, 26004132, 26942674}\n",
    "with open(\"douban_movie_rank.txt\", \"w\") as outputfile:\n",
    "    for id in id_list:\n",
    "        url_visit = 'https://api.douban.com/v2/movie/{}'.format(id)\n",
    "        crawl_content = urlrequest.urlopen(url_visit).read()\n",
    "        json_content = json.loads(crawl_content.decode('utf8'))\n",
    "\n",
    "        #print(crawl_content.decode('unicode-escape'))\n",
    "        #print(json_content['rating']['average'])\n",
    "        \n",
    "        rank = json_content['rating']['average']\n",
    "        outputfile.write(\"{} {}\\r\\n\".format(id, rank))"
   ]
  },
  {
   "cell_type": "code",
   "execution_count": 11,
   "metadata": {},
   "outputs": [
    {
     "name": "stdout",
     "output_type": "stream",
     "text": [
      "9.1\n"
     ]
    }
   ],
   "source": [
    "\n",
    "\n"
   ]
  },
  {
   "cell_type": "code",
   "execution_count": 18,
   "metadata": {
    "collapsed": true
   },
   "outputs": [],
   "source": []
  }
 ],
 "metadata": {
  "kernelspec": {
   "display_name": "Python 3",
   "language": "python",
   "name": "python3"
  },
  "language_info": {
   "codemirror_mode": {
    "name": "ipython",
    "version": 3
   },
   "file_extension": ".py",
   "mimetype": "text/x-python",
   "name": "python",
   "nbconvert_exporter": "python",
   "pygments_lexer": "ipython3",
   "version": "3.5.4"
  }
 },
 "nbformat": 4,
 "nbformat_minor": 2
}
